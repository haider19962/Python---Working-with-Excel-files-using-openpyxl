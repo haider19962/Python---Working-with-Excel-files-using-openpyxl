{
 "cells": [
  {
   "cell_type": "code",
   "execution_count": 9,
   "metadata": {},
   "outputs": [],
   "source": [
    "import openpyxl as xl\n",
    "from openpyxl.chart import BarChart,Reference"
   ]
  },
  {
   "cell_type": "code",
   "execution_count": 16,
   "metadata": {},
   "outputs": [],
   "source": [
    "def process_workbook(filename):\n",
    "    wb = xl.load_workbook(filename)\n",
    "    sheet = wb['Sheet1']\n",
    "\n",
    "    for row in range(2,sheet.max_row + 1):\n",
    "        cell = sheet.cell(row,3)\n",
    "        corrected_price = cell.value * 0.9\n",
    "        corrected_price_cell = sheet.cell(row,4)\n",
    "        corrected_price_cell.value = corrected_price\n",
    "\n",
    "    values = Reference(sheet, min_row = 2, max_row=sheet.max_row , min_col = 4, max_col = 4)\n",
    "    chart = BarChart()\n",
    "    chart.add_data(values)\n",
    "    sheet.add_chart(chart,'E2')\n",
    "    wb.save(filename)"
   ]
  },
  {
   "cell_type": "code",
   "execution_count": 17,
   "metadata": {},
   "outputs": [],
   "source": [
    "process_workbook('transactions.xlsx')"
   ]
  },
  {
   "cell_type": "code",
   "execution_count": null,
   "metadata": {},
   "outputs": [],
   "source": []
  }
 ],
 "metadata": {
  "kernelspec": {
   "display_name": "Python 3",
   "language": "python",
   "name": "python3"
  },
  "language_info": {
   "codemirror_mode": {
    "name": "ipython",
    "version": 3
   },
   "file_extension": ".py",
   "mimetype": "text/x-python",
   "name": "python",
   "nbconvert_exporter": "python",
   "pygments_lexer": "ipython3",
   "version": "3.8.5"
  }
 },
 "nbformat": 4,
 "nbformat_minor": 4
}
